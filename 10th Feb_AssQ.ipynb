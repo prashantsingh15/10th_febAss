{
 "cells": [
  {
   "cell_type": "markdown",
   "id": "4a53309f",
   "metadata": {},
   "source": [
    "## - Q1. Which function is used to open a file? What are the different modes of opening a file? Explain each mode of file opening."
   ]
  },
  {
   "cell_type": "markdown",
   "id": "55b4eb67",
   "metadata": {},
   "source": [
    "#### Ans ----> open() Function is used to open a File.The Different mode of opening a file in Python are :\n",
    "\n",
    "- Here are the Following modes of opening a file in a python--\n",
    "\n",
    "I) 'r' (Read Mode): This is the default mode and is used for reading files .\n",
    "\n",
    "II) 'w' (Write Mode): This mode is used to write data into a file.\n",
    "\n",
    "III) 'a' (Append Mode): This mode is used to append data to the end of the file.\n",
    "\n",
    "IV) 'b' (Binary Mode): This mode is used for working with binary data, such as images ,audio files, etc. It should be added to the mode string along with any of the previous modes. For example, 'rb' for reading a binary file and 'wb' for writing binary data to a file.'\n",
    "\n",
    "V) 't' (Text Mode) : This is the default mode , and it is used for working with text-based files .\n",
    "\n",
    "VI) '+' (Update Mode): This mode allows you to perform both read and write operations on the file."
   ]
  },
  {
   "cell_type": "markdown",
   "id": "10ac4b4c",
   "metadata": {},
   "source": [
    "##  Q2. Why close() function is used? Why is it important to close a file?"
   ]
  },
  {
   "cell_type": "markdown",
   "id": "844fbf14",
   "metadata": {},
   "source": [
    "- The close() function is used to close a file that has been previously opened using the 'open()' function . It is necessary to close a file after we finish our working with it . \n",
    "- Here are the following importance--\n",
    "\n",
    "i) Resource Management\n",
    "ii) Data Integrity\n",
    "iii) File Locking\n",
    "iV) Performance"
   ]
  },
  {
   "cell_type": "markdown",
   "id": "f1fb6b40",
   "metadata": {},
   "source": [
    "## Q3. Write a python program to create a text file. Write ‘I want to become a Data Scientist’ in that file. Then close the file. Open this file and read the content of the file."
   ]
  },
  {
   "cell_type": "code",
   "execution_count": 8,
   "id": "5e0e7c95",
   "metadata": {},
   "outputs": [
    {
     "name": "stdout",
     "output_type": "stream",
     "text": [
      "File created and written successfully.\n",
      "Content of the file:\n",
      "I want to become a Data Scientist\n"
     ]
    }
   ],
   "source": [
    "def create_and_write_to_file(file_path, content):\n",
    "    try:\n",
    "        \n",
    "        with open(file_path, 'w') as file_object:\n",
    "            \n",
    "            file_object.write(content)\n",
    "        print(\"File created and written successfully.\")\n",
    "\n",
    "    except IOError as e:\n",
    "        print(f\"Error: {e}\")\n",
    "\n",
    "def read_file(file_path):\n",
    "    try:\n",
    "        \n",
    "        with open(file_path, 'r') as file_object:\n",
    "           \n",
    "            content = file_object.read()\n",
    "            return content\n",
    "\n",
    "    except IOError as e:\n",
    "        print(f\"Error: {e}\")\n",
    "        return None\n",
    "\n",
    "\n",
    "file_path = \"data_scientist.txt\"\n",
    "content_to_write = \"I want to become a Data Scientist\"\n",
    "\n",
    "\n",
    "create_and_write_to_file(file_path, content_to_write)\n",
    "\n",
    "\n",
    "read_content = read_file(file_path)\n",
    "\n",
    "\n",
    "if read_content is not None:\n",
    "    print(\"Content of the file:\")\n",
    "    print(read_content)\n",
    "    \n",
    "\n"
   ]
  },
  {
   "cell_type": "markdown",
   "id": "f7de638b",
   "metadata": {},
   "source": [
    "### Q4. Explain the following with Python code: read(),readline() and readlines()."
   ]
  },
  {
   "cell_type": "code",
   "execution_count": 1,
   "id": "d886fa19",
   "metadata": {},
   "outputs": [
    {
     "name": "stdout",
     "output_type": "stream",
     "text": [
      "I want to become a Data Scientist\n"
     ]
    }
   ],
   "source": [
    "# read(): This method reads the entire content of the file as a single string.\n",
    "\n",
    "file_path = 'data_scientist.txt'\n",
    "\n",
    "with open(file_path, 'r') as file:\n",
    "    content = file.read()\n",
    "print(content)"
   ]
  },
  {
   "cell_type": "code",
   "execution_count": 3,
   "id": "775df1a9",
   "metadata": {},
   "outputs": [
    {
     "name": "stdout",
     "output_type": "stream",
     "text": [
      "['I want to become a Data Scientist']\n"
     ]
    }
   ],
   "source": [
    "# readlines(): This method reads all lines from the file and returns them as a list of strings, where each string represents a line from the file.\n",
    "file_path = 'data_scientist.txt'\n",
    "with open(file_path,'r') as file:\n",
    "    lines = file.readlines()\n",
    "    \n",
    "print(lines)\n"
   ]
  },
  {
   "cell_type": "markdown",
   "id": "ad1a9528",
   "metadata": {},
   "source": [
    "### Q5. Explain why with statement is used with open(). What is the advantage of using with statement and open() together?"
   ]
  },
  {
   "cell_type": "markdown",
   "id": "e157d695",
   "metadata": {},
   "source": [
    "###### The with statement In Python is used in conjuction with the 'open()' function to simplify the process of working with files.\n",
    "\n",
    "- Here is the Advantage of using with statement and open() together..\n",
    "\n",
    "\n",
    "i) Automatic Resource Management -->This prevent resources leaks and ensures that the file is closed\n",
    "properly, freeing up system resources ..\n",
    "\n",
    "\n",
    "ii) Exception Handling --> The 'With' statement also allows for better exception Handling..\n"
   ]
  },
  {
   "cell_type": "markdown",
   "id": "2d3e42cc",
   "metadata": {},
   "source": [
    "### Q6. Explain the write() and writelines() functions. Give a suitable example."
   ]
  },
  {
   "cell_type": "markdown",
   "id": "2a6516b4",
   "metadata": {},
   "source": [
    "- Ans --> The 'write()' and 'writelines()' functions are used to write data into a file.\n",
    "\n",
    "\n",
    "- 1 ) 'write()': This function is used to write a single string or a sequence of characters into a file ."
   ]
  },
  {
   "cell_type": "code",
   "execution_count": 12,
   "id": "f8be739f",
   "metadata": {},
   "outputs": [],
   "source": [
    "file_path = 'data_scientist1.txt'\n",
    "\n",
    "with open(file_path, 'w') as file:\n",
    "    file.write(\"Hello My name is Prashant Singh,\")\n",
    "    file.write(\" And I Want to become Data Scientist.\")"
   ]
  },
  {
   "cell_type": "code",
   "execution_count": 13,
   "id": "af2441bc",
   "metadata": {},
   "outputs": [
    {
     "name": "stdout",
     "output_type": "stream",
     "text": [
      "['Hello My name is Prashant Singh, And I Want to become Data Scientist.']\n"
     ]
    }
   ],
   "source": [
    "file_path  = 'data_scientist1.txt'\n",
    "\n",
    "with open(file_path, 'r') as file:\n",
    "    lines = file.readlines()\n",
    "    \n",
    "print(lines)"
   ]
  },
  {
   "cell_type": "markdown",
   "id": "aa2c4324",
   "metadata": {},
   "source": [
    "- writelines(): This function is used to write a list of strings, where each string represents a line, into a file. Like write(), it will create a new file if it doesn't exist and overwrite the existing content if the file is already present."
   ]
  },
  {
   "cell_type": "code",
   "execution_count": 16,
   "id": "0e7157f9",
   "metadata": {},
   "outputs": [],
   "source": [
    "file_path = 'writelines.txt'\n",
    "\n",
    "lines_to_write = [\n",
    "    \"Hey there How are You..\"\n",
    "    \"Hello Sir How are You..\"\n",
    "    \"Hello Mam How are You..\"\n",
    "]\n",
    "\n",
    "with open(file_path, 'w') as file:\n",
    "    file.writelines(lines_to_write)"
   ]
  },
  {
   "cell_type": "code",
   "execution_count": 17,
   "id": "47c414e7",
   "metadata": {},
   "outputs": [
    {
     "name": "stdout",
     "output_type": "stream",
     "text": [
      "['Hey there How are You..Hello Sir How are You..Hello Mam How are You..']\n"
     ]
    }
   ],
   "source": [
    "file_path  = 'writelines.txt'\n",
    "\n",
    "with open(file_path, 'r') as file:\n",
    "    lines = file.readlines()\n",
    "    \n",
    "print(lines)"
   ]
  }
 ],
 "metadata": {
  "kernelspec": {
   "display_name": "Python 3 (ipykernel)",
   "language": "python",
   "name": "python3"
  },
  "language_info": {
   "codemirror_mode": {
    "name": "ipython",
    "version": 3
   },
   "file_extension": ".py",
   "mimetype": "text/x-python",
   "name": "python",
   "nbconvert_exporter": "python",
   "pygments_lexer": "ipython3",
   "version": "3.11.2"
  }
 },
 "nbformat": 4,
 "nbformat_minor": 5
}
